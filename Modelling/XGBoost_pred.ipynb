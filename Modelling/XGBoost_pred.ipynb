{
 "cells": [
  {
   "cell_type": "code",
   "execution_count": 1,
   "metadata": {},
   "outputs": [
    {
     "name": "stdout",
     "output_type": "stream",
     "text": [
      "Dataset Shape: (1531716, 14)\n"
     ]
    },
    {
     "data": {
      "text/html": [
       "<div>\n",
       "<style scoped>\n",
       "    .dataframe tbody tr th:only-of-type {\n",
       "        vertical-align: middle;\n",
       "    }\n",
       "\n",
       "    .dataframe tbody tr th {\n",
       "        vertical-align: top;\n",
       "    }\n",
       "\n",
       "    .dataframe thead th {\n",
       "        text-align: right;\n",
       "    }\n",
       "</style>\n",
       "<table border=\"1\" class=\"dataframe\">\n",
       "  <thead>\n",
       "    <tr style=\"text-align: right;\">\n",
       "      <th></th>\n",
       "      <th>Class</th>\n",
       "      <th>WaterT</th>\n",
       "      <th>AvgDepth</th>\n",
       "      <th>PRECIP</th>\n",
       "      <th>gdd2</th>\n",
       "      <th>DOY</th>\n",
       "      <th>SmeltDen</th>\n",
       "      <th>YPerchDen</th>\n",
       "      <th>BurbotDen</th>\n",
       "      <th>OtherFishDen</th>\n",
       "      <th>distshore</th>\n",
       "      <th>Aspect.Ratio</th>\n",
       "      <th>Circularity</th>\n",
       "      <th>Diameter..ABD.</th>\n",
       "    </tr>\n",
       "  </thead>\n",
       "  <tbody>\n",
       "    <tr>\n",
       "      <th>0</th>\n",
       "      <td>Bosmina_1</td>\n",
       "      <td>13.4</td>\n",
       "      <td>8.30</td>\n",
       "      <td>0</td>\n",
       "      <td>140.374878</td>\n",
       "      <td>136</td>\n",
       "      <td>NaN</td>\n",
       "      <td>0.000000</td>\n",
       "      <td>0.0</td>\n",
       "      <td>0.0</td>\n",
       "      <td>469.236161</td>\n",
       "      <td>0.8512</td>\n",
       "      <td>0.7414</td>\n",
       "      <td>447.6502</td>\n",
       "    </tr>\n",
       "    <tr>\n",
       "      <th>1</th>\n",
       "      <td>Bosmina_1</td>\n",
       "      <td>16.1</td>\n",
       "      <td>4.45</td>\n",
       "      <td>0</td>\n",
       "      <td>140.374878</td>\n",
       "      <td>136</td>\n",
       "      <td>NaN</td>\n",
       "      <td>0.000000</td>\n",
       "      <td>0.0</td>\n",
       "      <td>0.0</td>\n",
       "      <td>337.080355</td>\n",
       "      <td>0.7627</td>\n",
       "      <td>0.4632</td>\n",
       "      <td>406.3137</td>\n",
       "    </tr>\n",
       "    <tr>\n",
       "      <th>2</th>\n",
       "      <td>Bosmina_1</td>\n",
       "      <td>11.8</td>\n",
       "      <td>4.60</td>\n",
       "      <td>0</td>\n",
       "      <td>194.031287</td>\n",
       "      <td>147</td>\n",
       "      <td>0.0</td>\n",
       "      <td>0.146546</td>\n",
       "      <td>0.0</td>\n",
       "      <td>0.0</td>\n",
       "      <td>93.538316</td>\n",
       "      <td>0.8719</td>\n",
       "      <td>0.8065</td>\n",
       "      <td>456.8796</td>\n",
       "    </tr>\n",
       "    <tr>\n",
       "      <th>3</th>\n",
       "      <td>Bosmina_1</td>\n",
       "      <td>11.3</td>\n",
       "      <td>2.90</td>\n",
       "      <td>40</td>\n",
       "      <td>131.462035</td>\n",
       "      <td>134</td>\n",
       "      <td>0.0</td>\n",
       "      <td>0.000000</td>\n",
       "      <td>0.0</td>\n",
       "      <td>0.0</td>\n",
       "      <td>116.085666</td>\n",
       "      <td>0.3099</td>\n",
       "      <td>0.2424</td>\n",
       "      <td>335.0322</td>\n",
       "    </tr>\n",
       "    <tr>\n",
       "      <th>4</th>\n",
       "      <td>Bosmina_1</td>\n",
       "      <td>7.7</td>\n",
       "      <td>3.40</td>\n",
       "      <td>0</td>\n",
       "      <td>107.485731</td>\n",
       "      <td>134</td>\n",
       "      <td>0.0</td>\n",
       "      <td>0.000000</td>\n",
       "      <td>0.0</td>\n",
       "      <td>0.0</td>\n",
       "      <td>42.636144</td>\n",
       "      <td>0.8985</td>\n",
       "      <td>0.6109</td>\n",
       "      <td>509.4362</td>\n",
       "    </tr>\n",
       "  </tbody>\n",
       "</table>\n",
       "</div>"
      ],
      "text/plain": [
       "       Class  WaterT  AvgDepth  PRECIP        gdd2  DOY  SmeltDen  YPerchDen  \\\n",
       "0  Bosmina_1    13.4      8.30       0  140.374878  136       NaN   0.000000   \n",
       "1  Bosmina_1    16.1      4.45       0  140.374878  136       NaN   0.000000   \n",
       "2  Bosmina_1    11.8      4.60       0  194.031287  147       0.0   0.146546   \n",
       "3  Bosmina_1    11.3      2.90      40  131.462035  134       0.0   0.000000   \n",
       "4  Bosmina_1     7.7      3.40       0  107.485731  134       0.0   0.000000   \n",
       "\n",
       "   BurbotDen  OtherFishDen   distshore  Aspect.Ratio  Circularity  \\\n",
       "0        0.0           0.0  469.236161        0.8512       0.7414   \n",
       "1        0.0           0.0  337.080355        0.7627       0.4632   \n",
       "2        0.0           0.0   93.538316        0.8719       0.8065   \n",
       "3        0.0           0.0  116.085666        0.3099       0.2424   \n",
       "4        0.0           0.0   42.636144        0.8985       0.6109   \n",
       "\n",
       "   Diameter..ABD.  \n",
       "0        447.6502  \n",
       "1        406.3137  \n",
       "2        456.8796  \n",
       "3        335.0322  \n",
       "4        509.4362  "
      ]
     },
     "execution_count": 1,
     "metadata": {},
     "output_type": "execute_result"
    }
   ],
   "source": [
    "import pandas as pd\n",
    "\n",
    "# Load the merged dataset\n",
    "data_path = \"/Users/willwu/Documents/GitHub/Zooplankton/plankton_data/Merged_Master_Subset.csv\"  # Update path if necessary\n",
    "df = pd.read_csv(data_path)\n",
    "\n",
    "# Display dataset info\n",
    "print(\"Dataset Shape:\", df.shape)\n",
    "df.head()"
   ]
  },
  {
   "cell_type": "code",
   "execution_count": 6,
   "metadata": {},
   "outputs": [
    {
     "name": "stdout",
     "output_type": "stream",
     "text": [
      "Selected Features: Index(['Class', 'WaterT', 'AvgDepth', 'PRECIP', 'gdd2', 'DOY', 'SmeltDen',\n",
      "       'YPerchDen', 'BurbotDen', 'OtherFishDen', 'distshore', 'Aspect.Ratio',\n",
      "       'Circularity', 'Diameter..ABD.'],\n",
      "      dtype='object')\n"
     ]
    },
    {
     "data": {
      "text/plain": [
       "Class\n",
       "Bosmina_1        300000\n",
       "Calanoid_1       300000\n",
       "Cyclopoid_1      300000\n",
       "Herpacticoida    300000\n",
       "Chironomid       218540\n",
       "Daphnia           92624\n",
       "Chydoridae        20552\n",
       "Name: count, dtype: int64"
      ]
     },
     "execution_count": 6,
     "metadata": {},
     "output_type": "execute_result"
    }
   ],
   "source": [
    "# Selecting the most relevant features\n",
    "selected_features = [\n",
    "    \"Class\",          # Target Variable\n",
    "    \"WaterT\",         # Environmental\n",
    "    \"AvgDepth\",\n",
    "    \"PRECIP\",\n",
    "    \"gdd2\",\n",
    "    \"DOY\",\n",
    "    \"SmeltDen\",\n",
    "    \"YPerchDen\", \n",
    "    \"BurbotDen\", \n",
    "    \"OtherFishDen\",\n",
    "    \"distshore\",\n",
    "    \"Aspect.Ratio\",   # Shape Features\n",
    "    \"Circularity\",\n",
    "    \"Diameter..ABD.\"  # Size Feature (Chosen over Perimeter, Area)\n",
    "]\n",
    "\n",
    "df = df[selected_features]\n",
    "\n",
    "# Display selected columns\n",
    "print(\"Selected Features:\", df.columns)\n",
    "df.head()\n",
    "\n",
    "# Show the count for each class\n",
    "df[\"Class\"].value_counts()\n",
    "\n"
   ]
  },
  {
   "cell_type": "code",
   "execution_count": 3,
   "metadata": {},
   "outputs": [
    {
     "name": "stdout",
     "output_type": "stream",
     "text": [
      "Missing Values per Column:\n",
      " Class                  0\n",
      "WaterT                 0\n",
      "AvgDepth               0\n",
      "PRECIP                 0\n",
      "gdd2                   0\n",
      "DOY                    0\n",
      "SmeltDen          881819\n",
      "YPerchDen            104\n",
      "BurbotDen            104\n",
      "OtherFishDen         104\n",
      "distshore         232507\n",
      "Aspect.Ratio           0\n",
      "Circularity            0\n",
      "Diameter..ABD.         0\n",
      "dtype: int64\n",
      "Percentage of Missing Values per Class:\n",
      "                 SmeltDen  distshore\n",
      "Class                              \n",
      "Bosmina_1      39.783667   7.927333\n",
      "Calanoid_1     78.861000  19.018667\n",
      "Chironomid      3.102407   2.220189\n",
      "Chydoridae     35.967302   9.420008\n",
      "Cyclopoid_1    97.055333  17.914333\n",
      "Daphnia        95.543272  26.882881\n",
      "Herpacticoida  44.017000  22.079333\n"
     ]
    },
    {
     "name": "stderr",
     "output_type": "stream",
     "text": [
      "/var/folders/z1/m0zdhyss3_xcp1hpgzc17plh0000gn/T/ipykernel_43909/2411461998.py:14: FutureWarning: \n",
      "\n",
      "Passing `palette` without assigning `hue` is deprecated and will be removed in v0.14.0. Assign the `x` variable to `hue` and set `legend=False` for the same effect.\n",
      "\n",
      "  sns.boxplot(x=\"Class\", y='distshore', data=df, palette=\"Set2\")\n"
     ]
    },
    {
     "data": {
      "image/png": "[encoded data removed]",
      "text/plain": [
       "<Figure size 800x500 with 1 Axes>"
      ]
     },
     "metadata": {},
     "output_type": "display_data"
    }
   ],
   "source": [
    "import matplotlib.pyplot as plt\n",
    "import seaborn as sns\n",
    "# Check missing values in the dataset\n",
    "print(\"Missing Values per Column:\\n\", df.isnull().sum())\n",
    "\n",
    "df[\"Class\"].value_counts()\n",
    "# Calculate the percentage of missing values for 'SmeltDen' and 'distshore' for each class\n",
    "missing_percentage = df.groupby('Class')[['SmeltDen', 'distshore']].apply(lambda x: x.isnull().mean() * 100)\n",
    "\n",
    "print(\"Percentage of Missing Values per Class:\\n\", missing_percentage)\n",
    "df['distshore'].describe()\n",
    "\n",
    "plt.figure(figsize=(8, 5))\n",
    "sns.boxplot(x=\"Class\", y='distshore', data=df, palette=\"Set2\")\n",
    "plt.xticks(rotation=45)\n",
    "plt.title(f\"Distribution of 'distshore' Across Zooplankton Classes\")\n",
    "plt.xlabel(\"Zooplankton Class\")\n",
    "plt.ylabel('distshore')\n",
    "plt.show()\n"
   ]
  },
  {
   "cell_type": "code",
   "execution_count": 4,
   "metadata": {},
   "outputs": [],
   "source": [
    "#Predict Missing Values Using Regression\n",
    "from sklearn.linear_model import LinearRegression\n",
    "\n",
    "# Select only rows where distshore is NOT missing\n",
    "df_not_missing = df.dropna(subset=[\"distshore\"])\n",
    "\n",
    "# Train a simple regression model\n",
    "X_train = df_not_missing[[\"AvgDepth\"]]\n",
    "y_train = df_not_missing[\"distshore\"]\n",
    "\n",
    "regressor = LinearRegression()\n",
    "regressor.fit(X_train, y_train)\n",
    "\n",
    "# Predict missing values\n",
    "missing_rows = df[df[\"distshore\"].isnull()]\n",
    "df.loc[df[\"distshore\"].isnull(), \"distshore\"] = regressor.predict(missing_rows[[\"AvgDepth\"]])\n"
   ]
  },
  {
   "cell_type": "code",
   "execution_count": 11,
   "metadata": {},
   "outputs": [
    {
     "name": "stdout",
     "output_type": "stream",
     "text": [
      "Missing values after imputation: 0\n"
     ]
    }
   ],
   "source": [
    "# Check again to ensure there are no missing values\n",
    "print(\"Missing values after imputation:\", df[\"distshore\"].isnull().sum())"
   ]
  },
  {
   "cell_type": "code",
   "execution_count": 5,
   "metadata": {},
   "outputs": [
    {
     "name": "stdout",
     "output_type": "stream",
     "text": [
      "Balanced Dataset Shape: (226156476, 8)\n"
     ]
    },
    {
     "data": {
      "text/plain": [
       "Class\n",
       "Calanoid_1       32308068\n",
       "Herpacticoida    32308068\n",
       "Cyclopoid_1      32308068\n",
       "Chironomid       32308068\n",
       "Bosmina_1        32308068\n",
       "Chydoridae       32308068\n",
       "Daphnia          32308068\n",
       "Name: count, dtype: int64"
      ]
     },
     "execution_count": 5,
     "metadata": {},
     "output_type": "execute_result"
    }
   ],
   "source": [
    "from imblearn.over_sampling import SMOTE\n",
    "\n",
    "# Splitting features and target variable\n",
    "X = df.drop(columns=[\"Class\"])\n",
    "y = df[\"Class\"]\n",
    "\n",
    "df[\"Class\"].value_counts()\n",
    "\n",
    "# Apply SMOTE to balance dataset\n",
    "smote = SMOTE(random_state=42)\n",
    "X_resampled, y_resampled = smote.fit_resample(X, y)\n",
    "\n",
    "# Convert back to DataFrame\n",
    "df_resampled = pd.DataFrame(X_resampled, columns=X.columns)\n",
    "df_resampled[\"Class\"] = y_resampled\n",
    "\n",
    "print(\"Balanced Dataset Shape:\", df_resampled.shape)\n",
    "df_resampled[\"Class\"].value_counts()\n"
   ]
  },
  {
   "cell_type": "code",
   "execution_count": 5,
   "metadata": {},
   "outputs": [
    {
     "name": "stdout",
     "output_type": "stream",
     "text": [
      "Data Preprocessing Complete!\n"
     ]
    }
   ],
   "source": [
    "from sklearn.model_selection import train_test_split\n",
    "from sklearn.preprocessing import StandardScaler\n",
    "\n",
    "# Splitting into training and testing sets\n",
    "X_train, X_test, y_train, y_test = train_test_split(\n",
    "    df.drop(columns=[\"Class\"]),\n",
    "    df[\"Class\"],\n",
    "    test_size=0.2,\n",
    "    stratify=df[\"Class\"],\n",
    "    random_state=42\n",
    ")\n",
    "\n",
    "# Normalize numeric features\n",
    "scaler = StandardScaler()\n",
    "X_train_scaled = scaler.fit_transform(X_train)\n",
    "X_test_scaled = scaler.transform(X_test)\n",
    "\n",
    "print(\"Data Preprocessing Complete!\")\n"
   ]
  },
  {
   "cell_type": "code",
   "execution_count": 9,
   "metadata": {},
   "outputs": [
    {
     "ename": "XGBoostError",
     "evalue": "\nXGBoost Library (libxgboost.dylib) could not be loaded.\nLikely causes:\n  * OpenMP runtime is not installed\n    - vcomp140.dll or libgomp-1.dll for Windows\n    - libomp.dylib for Mac OSX\n    - libgomp.so for Linux and other UNIX-like OSes\n    Mac OSX users: Run `brew install libomp` to install OpenMP runtime.\n\n  * You are running 32-bit Python on a 64-bit OS\n\nError message(s): [\"dlopen(/Users/willwu/Documents/GitHub/Zooplankton/plankton_env/lib/python3.12/site-packages/xgboost/lib/libxgboost.dylib, 0x0006): Library not loaded: @rpath/libomp.dylib\\n  Referenced from: <54A1AE05-1E14-3DA2-A8D0-062134694298> /Users/willwu/Documents/GitHub/Zooplankton/plankton_env/lib/python3.12/site-packages/xgboost/lib/libxgboost.dylib\\n  Reason: tried: '/opt/homebrew/opt/libomp/lib/libomp.dylib' (no such file), '/System/Volumes/Preboot/Cryptexes/OS/opt/homebrew/opt/libomp/lib/libomp.dylib' (no such file), '/opt/homebrew/opt/libomp/lib/libomp.dylib' (no such file), '/System/Volumes/Preboot/Cryptexes/OS/opt/homebrew/opt/libomp/lib/libomp.dylib' (no such file)\"]\n",
     "output_type": "error",
     "traceback": [
      "\u001b[31m---------------------------------------------------------------------------\u001b[39m",
      "\u001b[31mXGBoostError\u001b[39m                              Traceback (most recent call last)",
      "\u001b[36mCell\u001b[39m\u001b[36m \u001b[39m\u001b[32mIn[9]\u001b[39m\u001b[32m, line 1\u001b[39m\n\u001b[32m----> \u001b[39m\u001b[32m1\u001b[39m \u001b[38;5;28;01mfrom\u001b[39;00m\u001b[38;5;250m \u001b[39m\u001b[34;01mxgboost\u001b[39;00m\u001b[38;5;250m \u001b[39m\u001b[38;5;28;01mimport\u001b[39;00m XGBClassifier\n\u001b[32m      2\u001b[39m \u001b[38;5;28;01mfrom\u001b[39;00m\u001b[38;5;250m \u001b[39m\u001b[34;01msklearn\u001b[39;00m\u001b[34;01m.\u001b[39;00m\u001b[34;01mmodel_selection\u001b[39;00m\u001b[38;5;250m \u001b[39m\u001b[38;5;28;01mimport\u001b[39;00m train_test_split\n\u001b[32m      3\u001b[39m \u001b[38;5;28;01mfrom\u001b[39;00m\u001b[38;5;250m \u001b[39m\u001b[34;01msklearn\u001b[39;00m\u001b[34;01m.\u001b[39;00m\u001b[34;01mmetrics\u001b[39;00m\u001b[38;5;250m \u001b[39m\u001b[38;5;28;01mimport\u001b[39;00m classification_report, accuracy_score, f1_score\n",
      "\u001b[36mFile \u001b[39m\u001b[32m~/Documents/GitHub/Zooplankton/plankton_env/lib/python3.12/site-packages/xgboost/__init__.py:6\u001b[39m\n\u001b[32m      1\u001b[39m \u001b[33;03m\"\"\"XGBoost: eXtreme Gradient Boosting library.\u001b[39;00m\n\u001b[32m      2\u001b[39m \n\u001b[32m      3\u001b[39m \u001b[33;03mContributors: https://github.com/dmlc/xgboost/blob/master/CONTRIBUTORS.md\u001b[39;00m\n\u001b[32m      4\u001b[39m \u001b[33;03m\"\"\"\u001b[39;00m\n\u001b[32m----> \u001b[39m\u001b[32m6\u001b[39m \u001b[38;5;28;01mfrom\u001b[39;00m\u001b[38;5;250m \u001b[39m\u001b[34;01m.\u001b[39;00m\u001b[38;5;250m \u001b[39m\u001b[38;5;28;01mimport\u001b[39;00m tracker  \u001b[38;5;66;03m# noqa\u001b[39;00m\n\u001b[32m      7\u001b[39m \u001b[38;5;28;01mfrom\u001b[39;00m\u001b[38;5;250m \u001b[39m\u001b[34;01m.\u001b[39;00m\u001b[38;5;250m \u001b[39m\u001b[38;5;28;01mimport\u001b[39;00m collective\n\u001b[32m      8\u001b[39m \u001b[38;5;28;01mfrom\u001b[39;00m\u001b[38;5;250m \u001b[39m\u001b[34;01m.\u001b[39;00m\u001b[34;01mcore\u001b[39;00m\u001b[38;5;250m \u001b[39m\u001b[38;5;28;01mimport\u001b[39;00m (\n\u001b[32m      9\u001b[39m     Booster,\n\u001b[32m     10\u001b[39m     DataIter,\n\u001b[32m   (...)\u001b[39m\u001b[32m     15\u001b[39m     build_info,\n\u001b[32m     16\u001b[39m )\n",
      "\u001b[36mFile \u001b[39m\u001b[32m~/Documents/GitHub/Zooplankton/plankton_env/lib/python3.12/site-packages/xgboost/tracker.py:9\u001b[39m\n\u001b[32m      6\u001b[39m \u001b[38;5;28;01mfrom\u001b[39;00m\u001b[38;5;250m \u001b[39m\u001b[34;01menum\u001b[39;00m\u001b[38;5;250m \u001b[39m\u001b[38;5;28;01mimport\u001b[39;00m IntEnum, unique\n\u001b[32m      7\u001b[39m \u001b[38;5;28;01mfrom\u001b[39;00m\u001b[38;5;250m \u001b[39m\u001b[34;01mtyping\u001b[39;00m\u001b[38;5;250m \u001b[39m\u001b[38;5;28;01mimport\u001b[39;00m Dict, Optional, Union\n\u001b[32m----> \u001b[39m\u001b[32m9\u001b[39m \u001b[38;5;28;01mfrom\u001b[39;00m\u001b[38;5;250m \u001b[39m\u001b[34;01m.\u001b[39;00m\u001b[34;01mcore\u001b[39;00m\u001b[38;5;250m \u001b[39m\u001b[38;5;28;01mimport\u001b[39;00m _LIB, _check_call, _deprecate_positional_args, make_jcargs\n\u001b[32m     12\u001b[39m \u001b[38;5;28;01mdef\u001b[39;00m\u001b[38;5;250m \u001b[39m\u001b[34mget_family\u001b[39m(addr: \u001b[38;5;28mstr\u001b[39m) -> \u001b[38;5;28mint\u001b[39m:\n\u001b[32m     13\u001b[39m \u001b[38;5;250m    \u001b[39m\u001b[33;03m\"\"\"Get network family from address.\"\"\"\u001b[39;00m\n",
      "\u001b[36mFile \u001b[39m\u001b[32m~/Documents/GitHub/Zooplankton/plankton_env/lib/python3.12/site-packages/xgboost/core.py:295\u001b[39m\n\u001b[32m    291\u001b[39m     \u001b[38;5;28;01mreturn\u001b[39;00m lib\n\u001b[32m    294\u001b[39m \u001b[38;5;66;03m# load the XGBoost library globally\u001b[39;00m\n\u001b[32m--> \u001b[39m\u001b[32m295\u001b[39m _LIB = \u001b[43m_load_lib\u001b[49m\u001b[43m(\u001b[49m\u001b[43m)\u001b[49m\n\u001b[32m    298\u001b[39m \u001b[38;5;28;01mdef\u001b[39;00m\u001b[38;5;250m \u001b[39m\u001b[34m_check_call\u001b[39m(ret: \u001b[38;5;28mint\u001b[39m) -> \u001b[38;5;28;01mNone\u001b[39;00m:\n\u001b[32m    299\u001b[39m \u001b[38;5;250m    \u001b[39m\u001b[33;03m\"\"\"Check the return value of C API call\u001b[39;00m\n\u001b[32m    300\u001b[39m \n\u001b[32m    301\u001b[39m \u001b[33;03m    This function will raise exception when error occurs.\u001b[39;00m\n\u001b[32m   (...)\u001b[39m\u001b[32m    307\u001b[39m \u001b[33;03m        return value from API calls\u001b[39;00m\n\u001b[32m    308\u001b[39m \u001b[33;03m    \"\"\"\u001b[39;00m\n",
      "\u001b[36mFile \u001b[39m\u001b[32m~/Documents/GitHub/Zooplankton/plankton_env/lib/python3.12/site-packages/xgboost/core.py:257\u001b[39m, in \u001b[36m_load_lib\u001b[39m\u001b[34m()\u001b[39m\n\u001b[32m    255\u001b[39m     \u001b[38;5;28;01mif\u001b[39;00m \u001b[38;5;129;01mnot\u001b[39;00m lib_success:\n\u001b[32m    256\u001b[39m         libname = os.path.basename(lib_paths[\u001b[32m0\u001b[39m])\n\u001b[32m--> \u001b[39m\u001b[32m257\u001b[39m         \u001b[38;5;28;01mraise\u001b[39;00m XGBoostError(\n\u001b[32m    258\u001b[39m             \u001b[33mf\u001b[39m\u001b[33m\"\"\"\u001b[39m\n\u001b[32m    259\u001b[39m \u001b[33mXGBoost Library (\u001b[39m\u001b[38;5;132;01m{\u001b[39;00mlibname\u001b[38;5;132;01m}\u001b[39;00m\u001b[33m) could not be loaded.\u001b[39m\n\u001b[32m    260\u001b[39m \u001b[33mLikely causes:\u001b[39m\n\u001b[32m    261\u001b[39m \u001b[33m  * OpenMP runtime is not installed\u001b[39m\n\u001b[32m    262\u001b[39m \u001b[33m    - vcomp140.dll or libgomp-1.dll for Windows\u001b[39m\n\u001b[32m    263\u001b[39m \u001b[33m    - libomp.dylib for Mac OSX\u001b[39m\n\u001b[32m    264\u001b[39m \u001b[33m    - libgomp.so for Linux and other UNIX-like OSes\u001b[39m\n\u001b[32m    265\u001b[39m \u001b[33m    Mac OSX users: Run `brew install libomp` to install OpenMP runtime.\u001b[39m\n\u001b[32m    266\u001b[39m \n\u001b[32m    267\u001b[39m \u001b[33m  * You are running 32-bit Python on a 64-bit OS\u001b[39m\n\u001b[32m    268\u001b[39m \n\u001b[32m    269\u001b[39m \u001b[33mError message(s): \u001b[39m\u001b[38;5;132;01m{\u001b[39;00mos_error_list\u001b[38;5;132;01m}\u001b[39;00m\n\u001b[32m    270\u001b[39m \u001b[33m\"\"\"\u001b[39m\n\u001b[32m    271\u001b[39m         )\n\u001b[32m    272\u001b[39m     _register_log_callback(lib)\n\u001b[32m    274\u001b[39m     libver = _lib_version(lib)\n",
      "\u001b[31mXGBoostError\u001b[39m: \nXGBoost Library (libxgboost.dylib) could not be loaded.\nLikely causes:\n  * OpenMP runtime is not installed\n    - vcomp140.dll or libgomp-1.dll for Windows\n    - libomp.dylib for Mac OSX\n    - libgomp.so for Linux and other UNIX-like OSes\n    Mac OSX users: Run `brew install libomp` to install OpenMP runtime.\n\n  * You are running 32-bit Python on a 64-bit OS\n\nError message(s): [\"dlopen(/Users/willwu/Documents/GitHub/Zooplankton/plankton_env/lib/python3.12/site-packages/xgboost/lib/libxgboost.dylib, 0x0006): Library not loaded: @rpath/libomp.dylib\\n  Referenced from: <54A1AE05-1E14-3DA2-A8D0-062134694298> /Users/willwu/Documents/GitHub/Zooplankton/plankton_env/lib/python3.12/site-packages/xgboost/lib/libxgboost.dylib\\n  Reason: tried: '/opt/homebrew/opt/libomp/lib/libomp.dylib' (no such file), '/System/Volumes/Preboot/Cryptexes/OS/opt/homebrew/opt/libomp/lib/libomp.dylib' (no such file), '/opt/homebrew/opt/libomp/lib/libomp.dylib' (no such file), '/System/Volumes/Preboot/Cryptexes/OS/opt/homebrew/opt/libomp/lib/libomp.dylib' (no such file)\"]\n"
     ]
    }
   ],
   "source": [
    "from xgboost import XGBClassifier\n",
    "from sklearn.model_selection import train_test_split\n",
    "from sklearn.metrics import classification_report, accuracy_score, f1_score\n",
    "\n",
    "\n",
    "# Compute scale_pos_weight for handling class imbalance\n",
    "class_counts = y_train.value_counts()\n",
    "min_class_count = class_counts.min()\n",
    "scale_pos_weight = {cls: count / min_class_count for cls, count in class_counts.items()}\n",
    "\n",
    "# Initialize and train XGBoost classifier\n",
    "xgb_model = XGBClassifier(\n",
    "    use_label_encoder=False,\n",
    "    eval_metric=\"mlogloss\",\n",
    "    scale_pos_weight=scale_pos_weight,\n",
    "    n_estimators=200,\n",
    "    max_depth=6,\n",
    "    learning_rate=0.1,\n",
    "    random_state=42\n",
    ")\n",
    "\n",
    "xgb_model.fit(X_train, y_train)\n",
    "\n",
    "# Make predictions\n",
    "y_pred_xgb = xgb_model.predict(X_test)\n",
    "\n",
    "# Evaluate the model\n",
    "print(\"XGBoost Classification Report:\")\n",
    "print(classification_report(y_test, y_pred_xgb))\n",
    "print(\"Accuracy:\", accuracy_score(y_test, y_pred_xgb))\n",
    "print(\"F1 Score (Weighted):\", f1_score(y_test, y_pred_xgb, average=\"weighted\"))"
   ]
  }
 ],
 "metadata": {
  "kernelspec": {
   "display_name": "plankton_env",
   "language": "python",
   "name": "python3"
  },
  "language_info": {
   "codemirror_mode": {
    "name": "ipython",
    "version": 3
   },
   "file_extension": ".py",
   "mimetype": "text/x-python",
   "name": "python",
   "nbconvert_exporter": "python",
   "pygments_lexer": "ipython3",
   "version": "3.12.4"
  }
 },
 "nbformat": 4,
 "nbformat_minor": 2
}
